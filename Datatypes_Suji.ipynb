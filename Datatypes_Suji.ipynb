{
  "cells": [
    {
      "cell_type": "markdown",
      "metadata": {
        "id": "view-in-github",
        "colab_type": "text"
      },
      "source": [
        "<a href=\"https://colab.research.google.com/github/SujithaLakshmiR/Python_Datatypes/blob/main/Datatypes_Suji.ipynb\" target=\"_parent\"><img src=\"https://colab.research.google.com/assets/colab-badge.svg\" alt=\"Open In Colab\"/></a>"
      ]
    },
    {
      "cell_type": "markdown",
      "metadata": {
        "id": "2pwB224j_P9J"
      },
      "source": [
        "# Python Datatypes\n",
        "\n",
        "\n",
        "1.   Numeric Datatypes\n",
        "\n",
        "1.   Sequences\n",
        "\n",
        "1.   Mappings\n",
        "2.   Set\n",
        "\n",
        "5.   Boolean"
      ]
    },
    {
      "cell_type": "markdown",
      "metadata": {
        "id": "STY4edOC_bC1"
      },
      "source": [
        "1.Numeric Datatypes:\n",
        "  \n",
        "\n",
        "*   Integer\n",
        "*   Float\n",
        "\n",
        "*   Complex Number\n",
        "\n",
        "\n"
      ]
    },
    {
      "cell_type": "code",
      "execution_count": null,
      "metadata": {
        "colab": {
          "base_uri": "https://localhost:8080/"
        },
        "id": "DiRJ8f8__Uy5",
        "outputId": "2c5bc657-7b8d-4c18-b90e-4b605ddcd9bb"
      },
      "outputs": [
        {
          "output_type": "stream",
          "name": "stdout",
          "text": [
            "Type of a:  <class 'int'>\n",
            "Type of b:  <class 'float'>\n",
            "Type of c:  <class 'complex'>\n"
          ]
        }
      ],
      "source": [
        "a=12\n",
        "print(\"Type of a: \",type(a))\n",
        "b=12.0\n",
        "print(\"Type of b: \",type(b))\n",
        "c=12+12j\n",
        "print(\"Type of c: \",type(c))"
      ]
    },
    {
      "cell_type": "markdown",
      "source": [
        "2.Sequences:\n",
        "\n",
        "\n",
        "*   String\n",
        "*   List\n",
        "\n",
        "*   Tuple\n",
        "\n",
        "\n",
        "\n"
      ],
      "metadata": {
        "id": "br1mtPXEE4qq"
      }
    },
    {
      "cell_type": "code",
      "source": [
        "mystr=\"Sujitha\"\n",
        "print(mystr)\n",
        "print(mystr[0])\n",
        "print(mystr[0:4])\n",
        "print(\"Hi \"+mystr)\n",
        "print(mystr*3)"
      ],
      "metadata": {
        "colab": {
          "base_uri": "https://localhost:8080/"
        },
        "id": "uliBuSkdFGop",
        "outputId": "56a4c902-5f10-4a36-8125-f15976c5b9ec"
      },
      "execution_count": null,
      "outputs": [
        {
          "output_type": "stream",
          "name": "stdout",
          "text": [
            "Sujitha\n",
            "S\n",
            "Suji\n",
            "Hi Sujitha\n",
            "SujithaSujithaSujitha\n"
          ]
        }
      ]
    },
    {
      "cell_type": "code",
      "source": [
        "mylist=['cat','dog','horse','rabbit','parrot']\n",
        "print(mylist)\n",
        "print(mylist[0]) \n",
        "print(mylist[0:3])"
      ],
      "metadata": {
        "colab": {
          "base_uri": "https://localhost:8080/"
        },
        "id": "EzeBo9d4GJPd",
        "outputId": "189396e1-5911-4b61-c646-254efbb138f4"
      },
      "execution_count": null,
      "outputs": [
        {
          "output_type": "stream",
          "name": "stdout",
          "text": [
            "['cat', 'dog', 'horse', 'rabbit', 'parrot']\n",
            "cat\n",
            "['cat', 'dog', 'horse']\n"
          ]
        }
      ]
    },
    {
      "cell_type": "code",
      "source": [
        "mytuple=(1,2,3,4,5)\n",
        "print(mytuple)\n",
        "print(mytuple[0])\n",
        "print(mytuple[3:5])\n",
        "mytuple1=1,'one',2,'two'\n",
        "print(mytuple)"
      ],
      "metadata": {
        "colab": {
          "base_uri": "https://localhost:8080/"
        },
        "id": "bRyjyd_aG8IC",
        "outputId": "9f3af45c-7577-415d-c58e-a15b596578f2"
      },
      "execution_count": null,
      "outputs": [
        {
          "output_type": "stream",
          "name": "stdout",
          "text": [
            "(1, 2, 3, 4, 5)\n",
            "1\n",
            "(4, 5)\n",
            "(1, 2, 3, 4, 5)\n"
          ]
        }
      ]
    },
    {
      "cell_type": "markdown",
      "source": [
        "3.Mappings:\n",
        "\n",
        "\n",
        "*   Dictionary\n",
        "\n",
        "\n",
        "\n"
      ],
      "metadata": {
        "id": "p7GIQlyDH7Ok"
      }
    },
    {
      "cell_type": "code",
      "source": [
        "mydict={\"s\":\"sujitha\",\"b\":\"butterfly\",\"c\":\"cat\"}\n",
        "print(mydict)\n",
        "print(mydict[\"s\"])"
      ],
      "metadata": {
        "colab": {
          "base_uri": "https://localhost:8080/"
        },
        "id": "kdSlYfuBIHEo",
        "outputId": "22aa03e0-18cf-4c6e-cebf-dccb29426af6"
      },
      "execution_count": null,
      "outputs": [
        {
          "output_type": "stream",
          "name": "stdout",
          "text": [
            "{'s': 'sujitha', 'b': 'butterfly', 'c': 'cat'}\n",
            "sujitha\n"
          ]
        }
      ]
    },
    {
      "cell_type": "markdown",
      "source": [
        "4.Set:"
      ],
      "metadata": {
        "id": "hUKcRRfxI6NO"
      }
    },
    {
      "cell_type": "code",
      "source": [
        "myset={12,12,10,10,27,27,14,14}\n",
        "print(myset)"
      ],
      "metadata": {
        "colab": {
          "base_uri": "https://localhost:8080/"
        },
        "id": "qAgOGIEZI9RR",
        "outputId": "a193085d-ac7b-4bba-d4b7-0dc5e060ce01"
      },
      "execution_count": null,
      "outputs": [
        {
          "output_type": "stream",
          "name": "stdout",
          "text": [
            "{10, 27, 12, 14}\n"
          ]
        }
      ]
    },
    {
      "cell_type": "markdown",
      "source": [
        "5.Boolean:"
      ],
      "metadata": {
        "id": "_R3-T0Q7JsQJ"
      }
    },
    {
      "cell_type": "code",
      "source": [
        "print(type(True))\n",
        "print(type(False))"
      ],
      "metadata": {
        "colab": {
          "base_uri": "https://localhost:8080/"
        },
        "id": "E58zk8ZgJudr",
        "outputId": "e9937899-b9ff-4f2d-e752-4651a2de4500"
      },
      "execution_count": null,
      "outputs": [
        {
          "output_type": "stream",
          "name": "stdout",
          "text": [
            "<class 'bool'>\n",
            "<class 'bool'>\n"
          ]
        }
      ]
    }
  ],
  "metadata": {
    "colab": {
      "name": "Datatypes-Suji.ipynb",
      "toc_visible": true,
      "provenance": [],
      "collapsed_sections": [],
      "authorship_tag": "ABX9TyP04bxBtbY29RrWEbUeSjB/",
      "include_colab_link": true
    },
    "kernelspec": {
      "display_name": "Python 3",
      "name": "python3"
    },
    "language_info": {
      "name": "python"
    }
  },
  "nbformat": 4,
  "nbformat_minor": 0
}